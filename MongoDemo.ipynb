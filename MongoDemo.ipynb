{
 "cells": [
  {
   "cell_type": "markdown",
   "metadata": {
    "deletable": true,
    "editable": true,
    "slideshow": {
     "slide_type": "slide"
    }
   },
   "source": [
    "# MongoDB Aggregation Pipeline Demo"
   ]
  },
  {
   "cell_type": "markdown",
   "metadata": {},
   "source": [
    "![Pipe](pipe.jpg)"
   ]
  },
  {
   "cell_type": "code",
   "execution_count": null,
   "metadata": {
    "collapsed": true,
    "deletable": true,
    "editable": true,
    "scrolled": false,
    "slideshow": {
     "slide_type": "slide"
    }
   },
   "outputs": [],
   "source": [
    "%alias mongo \"C:\\Program Files\\MongoDB\\Server\\3.4\\bin\\mongo.exe\" Demo --eval %s"
   ]
  },
  {
   "cell_type": "markdown",
   "metadata": {
    "deletable": true,
    "editable": true,
    "slideshow": {
     "slide_type": "slide"
    }
   },
   "source": [
    "### Our collection"
   ]
  },
  {
   "cell_type": "markdown",
   "metadata": {
    "collapsed": false,
    "deletable": true,
    "editable": true,
    "scrolled": true,
    "slideshow": {
     "slide_type": "fragment"
    }
   },
   "source": [
    "```JSON\n",
    "[\n",
    "\t{\n",
    "\t'name': 'Bob',\n",
    "\t'address': {\n",
    "\t\t'Street': 'Olive Blvd',\n",
    "\t\t'City': 'Burbank',\n",
    "\t\t'State': 'CA'\n",
    "\t\t},\n",
    "\t'ordered': ['lamb', 'veal', 'chicken'],\n",
    "\t'lifetime_value': 450\n",
    "\t},\n",
    "\t{\n",
    "\t'name': 'Sam',\n",
    "\t'address': {\n",
    "\t\t'Street': 'Magnolia Blvd',\n",
    "\t\t'City': 'Burbank',\n",
    "\t\t'State': 'CA'\n",
    "\t\t},\n",
    "\t'ordered': ['turkey', 'duck', 'chicken'],\n",
    "\t'lifetime_value': 1000\n",
    "\t},\n",
    "\t{\n",
    "\t'name': 'Jess',\n",
    "\t'address': {\n",
    "\t\t'Street': 'Hollywood Blvd',\n",
    "\t\t'City': 'Hollywood',\n",
    "\t\t'State': 'CA'\n",
    "\t\t},\n",
    "\t'ordered': ['beef', 'lamb', 'chicken'],\n",
    "\t'lifetime_value': 200\n",
    "\t}\n",
    "\t{\n",
    "\t'name': 'Alejandra',\n",
    "\t'address': {\n",
    "\t\t'Street': 'Segway Dr',\n",
    "\t\t'City': 'Bloomington',\n",
    "\t\t'State': 'IN'\n",
    "\t\t},\n",
    "\t'ordered': ['shrimp', 'beef'],\n",
    "\t'lifetime_value': 2200\n",
    "\t}\n",
    "]\n",
    "```"
   ]
  },
  {
   "cell_type": "code",
   "execution_count": null,
   "metadata": {
    "collapsed": false,
    "deletable": true,
    "editable": true,
    "scrolled": false,
    "slideshow": {
     "slide_type": "subslide"
    }
   },
   "outputs": [],
   "source": [
    "mongo \"db.customers.insert([{'name':'Bob','address':{'Street':'Olive Blvd','City':'Burbank','State':'CA'},'ordered':['lamb','veal','chicken'],'lifetime_value':450},{'name':'Sam','address':{'Street':'Magnolia Blvd','City':'Burbank','State':'CA'},'ordered':['turkey','duck','chicken'],'lifetime_value':1000},{'name':'Jess','address':{'Street':'Hollywood Blvd','City':'Hollywood','State':'CA'},'ordered':['beef','lamb','chicken'],'lifetime_value':200},{'name':'Alejandra','address':{'Street':'Segway Dr','City':'Bloomington','State':'IN'},'ordered':['shrimp','beef'],'lifetime_value':2200}])\""
   ]
  },
  {
   "cell_type": "markdown",
   "metadata": {
    "deletable": true,
    "editable": true,
    "slideshow": {
     "slide_type": "slide"
    }
   },
   "source": [
    "### How many of our customers are from California?"
   ]
  },
  {
   "cell_type": "code",
   "execution_count": null,
   "metadata": {
    "collapsed": false,
    "deletable": true,
    "editable": true,
    "slideshow": {
     "slide_type": "fragment"
    }
   },
   "outputs": [],
   "source": [
    "mongo \"db.customers.aggregate([{$match:{'address.State': 'CA'}}])\""
   ]
  },
  {
   "cell_type": "code",
   "execution_count": null,
   "metadata": {
    "collapsed": false,
    "deletable": true,
    "editable": true,
    "slideshow": {
     "slide_type": "fragment"
    }
   },
   "outputs": [],
   "source": [
    "mongo \"db.customers.aggregate([{$match:{'address.State':'CA'}},{$count:'californians'}])\""
   ]
  },
  {
   "cell_type": "markdown",
   "metadata": {},
   "source": [
    "*Mongoose*\n",
    "```javascript\n",
    "app.get('/match', function(req, res){\n",
    "\tUser.aggregate(\n",
    "\t\t{$match: {'address.State': 'CA'}},\n",
    "\t\t{$count: 'californians'}\n",
    "\t, function(err, users){\n",
    "\t\tif(err){\n",
    "\t\t\tconsole.log(err);\n",
    "\t\t} else {\n",
    "\t\t\tconsole.log(users);\n",
    "\t\t\treturn res.json(users);\n",
    "\t\t}\n",
    "\t});\n",
    "});\n",
    "```"
   ]
  },
  {
   "cell_type": "markdown",
   "metadata": {
    "deletable": true,
    "editable": true,
    "slideshow": {
     "slide_type": "slide"
    }
   },
   "source": [
    "### How profitable is Burbank?"
   ]
  },
  {
   "cell_type": "markdown",
   "metadata": {
    "deletable": true,
    "editable": true,
    "slideshow": {
     "slide_type": "fragment"
    }
   },
   "source": [
    "#### Group first, then match."
   ]
  },
  {
   "cell_type": "code",
   "execution_count": null,
   "metadata": {
    "collapsed": false,
    "deletable": true,
    "editable": true,
    "slideshow": {
     "slide_type": "fragment"
    }
   },
   "outputs": [],
   "source": [
    "mongo \"db.customers.aggregate([{$group:{ _id: '$address.City', total_value: {$sum: '$lifetime_value'}}}])\""
   ]
  },
  {
   "cell_type": "code",
   "execution_count": null,
   "metadata": {
    "collapsed": true
   },
   "outputs": [],
   "source": [
    "*Mongoose*\n",
    "```javascript\n",
    "\n",
    "```"
   ]
  },
  {
   "cell_type": "code",
   "execution_count": null,
   "metadata": {
    "collapsed": false,
    "deletable": true,
    "editable": true,
    "slideshow": {
     "slide_type": "fragment"
    }
   },
   "outputs": [],
   "source": [
    "mongo \"db.customers.aggregate([{$group:{ _id: '$address.City', total_value: {$sum: '$lifetime_value'}}}, {$match: {_id: 'Burbank'}}])\""
   ]
  },
  {
   "cell_type": "markdown",
   "metadata": {
    "collapsed": true,
    "deletable": true,
    "editable": true
   },
   "source": [
    "*Mongoose*\n",
    "```javascript\n",
    "app.get('/group', function(req, res){\n",
    "\tUser.aggregate([\n",
    "\t\t{$group: {\n",
    "\t\t\t_id: '$address.City',\n",
    "\t\t\ttotal_value: {$sum: '$lifetime_value'}\n",
    "\t\t}}]\n",
    "\t, function(err, users){\n",
    "\t\tif(err){\n",
    "\t\t\tconsole.log(err);\n",
    "\t\t} else {\n",
    "\t\t\tconsole.log(users);\n",
    "\t\t\treturn res.json(users);\n",
    "\t\t}\n",
    "\t})\n",
    "});\n",
    "```"
   ]
  },
  {
   "cell_type": "markdown",
   "metadata": {
    "deletable": true,
    "editable": true,
    "slideshow": {
     "slide_type": "subslide"
    }
   },
   "source": [
    "#### Match first, then group"
   ]
  },
  {
   "cell_type": "code",
   "execution_count": null,
   "metadata": {
    "collapsed": false,
    "deletable": true,
    "editable": true,
    "slideshow": {
     "slide_type": "fragment"
    }
   },
   "outputs": [],
   "source": [
    "mongo \"db.customers.aggregate([{$match: { 'address.City': 'Burbank'}}])\""
   ]
  },
  {
   "cell_type": "code",
   "execution_count": null,
   "metadata": {
    "collapsed": false,
    "deletable": true,
    "editable": true,
    "slideshow": {
     "slide_type": "fragment"
    }
   },
   "outputs": [],
   "source": [
    "mongo \"db.customers.aggregate([{$match: { 'address.City': 'Burbank'}}, {$group: {_id: 'address.City', total_value: {$sum: '$lifetime_value'}}}])\""
   ]
  },
  {
   "cell_type": "markdown",
   "metadata": {
    "deletable": true,
    "editable": true,
    "slideshow": {
     "slide_type": "slide"
    }
   },
   "source": [
    "### Suddenly, we need a seperate collection for the orders."
   ]
  },
  {
   "cell_type": "markdown",
   "metadata": {
    "deletable": true,
    "editable": true,
    "slideshow": {
     "slide_type": "fragment"
    }
   },
   "source": [
    "#### Unwind Magic"
   ]
  },
  {
   "cell_type": "code",
   "execution_count": null,
   "metadata": {
    "collapsed": false,
    "deletable": true,
    "editable": true,
    "slideshow": {
     "slide_type": "fragment"
    }
   },
   "outputs": [],
   "source": [
    "mongo \"db.customers.aggregate([{$unwind: '$ordered'}])\""
   ]
  },
  {
   "cell_type": "markdown",
   "metadata": {
    "collapsed": true,
    "deletable": true,
    "editable": true
   },
   "source": [
    "*Mongoose*\n",
    "```javascript\n",
    "app.get('/unwind', function(req, res){\n",
    "\tUser.aggregate([\n",
    "\t\t{$unwind: '$ordered'}\n",
    "\t], function(err, ordered){\n",
    "\t\tif(err){\n",
    "\t\t\tconsole.log(err);\n",
    "\t\t} else {\n",
    "\t\t\tconsole.log(ordered);\n",
    "\t\t\treturn res.json(ordered);\n",
    "\t\t}\n",
    "\t});\n",
    "});\n",
    "```"
   ]
  },
  {
   "cell_type": "markdown",
   "metadata": {
    "deletable": true,
    "editable": true,
    "slideshow": {
     "slide_type": "subslide"
    }
   },
   "source": [
    "#### Collections need unique \\_ids. Using addFields."
   ]
  },
  {
   "cell_type": "code",
   "execution_count": null,
   "metadata": {
    "collapsed": false,
    "deletable": true,
    "editable": true,
    "slideshow": {
     "slide_type": "fragment"
    }
   },
   "outputs": [],
   "source": [
    "mongo \"db.customers.aggregate([{$unwind: '$ordered'}, {$addFields: { _id: {name: '$name', ordered: '$ordered'}}}])\""
   ]
  },
  {
   "cell_type": "markdown",
   "metadata": {
    "deletable": true,
    "editable": true,
    "slideshow": {
     "slide_type": "subslide"
    }
   },
   "source": [
    "#### Creating a new collection within the aggregate pipeline"
   ]
  },
  {
   "cell_type": "code",
   "execution_count": null,
   "metadata": {
    "collapsed": false,
    "deletable": true,
    "editable": true,
    "slideshow": {
     "slide_type": "fragment"
    }
   },
   "outputs": [],
   "source": [
    "mongo \"db.customers.aggregate([{$unwind: '$ordered'}, {$addFields: { _id: {name: '$name', ordered: '$ordered'}}}, {$out: 'orders'}])\""
   ]
  },
  {
   "cell_type": "code",
   "execution_count": null,
   "metadata": {
    "collapsed": false,
    "deletable": true,
    "editable": true,
    "slideshow": {
     "slide_type": "fragment"
    }
   },
   "outputs": [],
   "source": [
    "mongo \"db.orders.find()\""
   ]
  },
  {
   "cell_type": "markdown",
   "metadata": {
    "deletable": true,
    "editable": true,
    "slideshow": {
     "slide_type": "subslide"
    }
   },
   "source": [
    "#### Redundant and Unnecessary fields! Drop the bass..."
   ]
  },
  {
   "cell_type": "code",
   "execution_count": null,
   "metadata": {
    "collapsed": false,
    "deletable": true,
    "editable": true,
    "scrolled": true,
    "slideshow": {
     "slide_type": "fragment"
    }
   },
   "outputs": [],
   "source": [
    "mongo \"db.orders.drop()\""
   ]
  },
  {
   "cell_type": "markdown",
   "metadata": {
    "deletable": true,
    "editable": true,
    "slideshow": {
     "slide_type": "fragment"
    }
   },
   "source": [
    "#### Projecting(similar to second argument in `find()`)"
   ]
  },
  {
   "cell_type": "code",
   "execution_count": null,
   "metadata": {
    "collapsed": false,
    "deletable": true,
    "editable": true,
    "scrolled": false,
    "slideshow": {
     "slide_type": "subslide"
    }
   },
   "outputs": [],
   "source": [
    "mongo \"db.customers.aggregate([{$unwind: '$ordered'}, {$addFields: { _id: {name: '$name', ordered: '$ordered'}}}, {$project: {id: 1, address: 1}}, {$out: 'orders'} ])\""
   ]
  },
  {
   "cell_type": "code",
   "execution_count": null,
   "metadata": {
    "collapsed": false,
    "deletable": true,
    "editable": true,
    "scrolled": true,
    "slideshow": {
     "slide_type": "fragment"
    }
   },
   "outputs": [],
   "source": [
    "mongo \"db.orders.find()\""
   ]
  },
  {
   "cell_type": "markdown",
   "metadata": {
    "collapsed": true,
    "deletable": true,
    "editable": true
   },
   "source": [
    "*Mongoose*\n",
    "```javascript\n",
    "app.get('/out', function(req, res){\n",
    "\tUser.aggregate([\n",
    "\t\t{$unwind: '$ordered'},\n",
    "\t\t{$addFields: {_id: {name: '$name', ordered: '$ordered'}}},\n",
    "\t\t{$project: {id: 1, address: 1}},\n",
    "\t\t{$out: \"orders\"}\n",
    "\t], function(err, coll){\n",
    "\t\tif(err){\n",
    "\t\t\tconsole.log(err);\n",
    "\t\t} else {\n",
    "\t\t\tmongoose.connection.db.collection('orders', function(err, collection){\n",
    "\t\t\t\tcollection.find({}).toArray(function(err, orders){\n",
    "\t\t\t\t\tif(err){\n",
    "\t\t\t\t\t\tconsole.log(err);\n",
    "\t\t\t\t\t} else {\n",
    "\t\t\t\t\t\tfor(var i = 0; i < orders.length; i++){\n",
    "\t\t\t\t\t\t\tquantity = Math.round(Math.random()*3)+1;\n",
    "\t\t\t\t\t\t\torders[i].quantity = quantity;\n",
    "\t\t\t\t\t\t\tcollection.save(orders[i]);\n",
    "\t\t\t\t\t\t}\n",
    "\t\t\t\t\t\treturn res.json(orders);\n",
    "\t\t\t\t\t}\n",
    "\t\t\t\t});\n",
    "\t\t\t});\n",
    "\t\t}\n",
    "\t});\n",
    "});\n",
    "```"
   ]
  },
  {
   "cell_type": "markdown",
   "metadata": {
    "deletable": true,
    "editable": true,
    "slideshow": {
     "slide_type": "slide"
    }
   },
   "source": [
    "### Suddenly, we recieve quantities(finally)"
   ]
  },
  {
   "cell_type": "code",
   "execution_count": null,
   "metadata": {
    "collapsed": false,
    "deletable": true,
    "editable": true,
    "slideshow": {
     "slide_type": "fragment"
    }
   },
   "outputs": [],
   "source": [
    "mongo \"var orders=db.orders.find(); orders.forEach(function(order){order.quantity=Math.round(Math.random()*3)+1;db.orders.save(order)})\""
   ]
  },
  {
   "cell_type": "code",
   "execution_count": null,
   "metadata": {
    "collapsed": false,
    "deletable": true,
    "editable": true,
    "scrolled": true,
    "slideshow": {
     "slide_type": "fragment"
    }
   },
   "outputs": [],
   "source": [
    "mongo \"db.orders.find().pretty()\""
   ]
  },
  {
   "cell_type": "markdown",
   "metadata": {
    "deletable": true,
    "editable": true
   },
   "source": [
    "### Lets see which products are bought in greater quantities! AKA \"Who loves joins?!\""
   ]
  },
  {
   "cell_type": "markdown",
   "metadata": {
    "deletable": true,
    "editable": true
   },
   "source": [
    "#### Grouping prior to joining and creating an array of order: quantity key-value pairs."
   ]
  },
  {
   "cell_type": "code",
   "execution_count": null,
   "metadata": {
    "collapsed": false,
    "deletable": true,
    "editable": true
   },
   "outputs": [],
   "source": [
    "mongo \"db.orders.aggregate([{$group: { _id: '$_id.name', ordQuant: {$push: {order: '$_id.ordered', quantity: '$quantity'}} }}])\""
   ]
  },
  {
   "cell_type": "markdown",
   "metadata": {
    "deletable": true,
    "editable": true
   },
   "source": [
    "#### Join and create new collection "
   ]
  },
  {
   "cell_type": "code",
   "execution_count": null,
   "metadata": {
    "collapsed": false,
    "deletable": true,
    "editable": true
   },
   "outputs": [],
   "source": [
    "mongo \"db.orders.aggregate([{$group: { _id: '$_id.name', ordQuant: {$push: {order: '$_id.ordered', quantity: '$quantity'}} }}, {$lookup: {from: 'customers', localField: '_id', foreignField: 'name', as: 'cust'}}]).pretty()\""
   ]
  },
  {
   "cell_type": "code",
   "execution_count": null,
   "metadata": {
    "collapsed": false,
    "deletable": true,
    "editable": true
   },
   "outputs": [],
   "source": [
    "mongo \"db.orders.aggregate([{$group: { _id: '$_id.name', ordQuant: {$push: {order: '$_id.ordered', quantity: '$quantity'}} }}, {$lookup: {from: 'customers', localField: '_id', foreignField: 'name', as: 'cust'}}, {$out: 'cmb'}])\""
   ]
  },
  {
   "cell_type": "markdown",
   "metadata": {
    "collapsed": true,
    "deletable": true,
    "editable": true
   },
   "source": [
    "*Mongoose*\n",
    "```javascript\n",
    "app.get('/out1', function(req, res){\n",
    "\tmongoose.connection.db.collection('orders', function(err, collection){\n",
    "\t\tcollection.aggregate([\n",
    "\t\t\t\t{$group: \n",
    "\t\t\t\t\t{_id: '$_id.name', \n",
    "\t\t\t\t\tordQuant: {\n",
    "\t\t\t\t\t\t$push: {order: '$_id.ordered', quantity: '$quantity'}\n",
    "\t\t\t\t\t}}},\n",
    "\t\t\t\t{$lookup: {\n",
    "\t\t\t\t\tfrom: 'users',\n",
    "\t\t\t\t\tlocalField: '_id',\n",
    "\t\t\t\t\tforeignField: 'name',\n",
    "\t\t\t\t\tas: 'cust'\n",
    "\t\t\t\t}},\n",
    "\t\t\t\t{$out: 'cmb'}\n",
    "\t\t\t]).toArray(function(err, orders){\n",
    "\t\t\tif(err){\n",
    "\t\t\t\tconsole.log(err);\n",
    "\t\t\t} else {\n",
    "\t\t\t\tmongoose.connection.db.collection('orders', function(err, collection){\n",
    "\t\t\t\t\tcollection.find({}).toArray(function(err, orders){\n",
    "\t\t\t\t\t\tif(err){\n",
    "\t\t\t\t\t\t\tconsole.log(err);\n",
    "\t\t\t\t\t\t} else {\n",
    "\t\t\t\t\t\t\tconsole.log(orders);\n",
    "\t\t\t\t\t\t\treturn res.json(orders);\n",
    "\t\t\t\t\t\t}\n",
    "\t\t\t\t\t});\n",
    "\t\t\t\t});\n",
    "\t\t\t}\n",
    "\t\t});\n",
    "\t});\n",
    "});\n",
    "```"
   ]
  },
  {
   "cell_type": "markdown",
   "metadata": {
    "deletable": true,
    "editable": true
   },
   "source": [
    "#### Unwind the new collection"
   ]
  },
  {
   "cell_type": "code",
   "execution_count": null,
   "metadata": {
    "collapsed": false,
    "deletable": true,
    "editable": true,
    "scrolled": true
   },
   "outputs": [],
   "source": [
    "mongo \"db.cmb.aggregate([{$unwind: '$ordQuant'}])\""
   ]
  },
  {
   "cell_type": "markdown",
   "metadata": {
    "deletable": true,
    "editable": true
   },
   "source": [
    "#### Groups the products and averages out their quantities "
   ]
  },
  {
   "cell_type": "code",
   "execution_count": null,
   "metadata": {
    "collapsed": false,
    "deletable": true,
    "editable": true,
    "scrolled": true
   },
   "outputs": [],
   "source": [
    "mongo \"db.cmb.aggregate([{$unwind: '$ordQuant'}, {$group: {_id: '$ordQuant.order', average_quantity: {$avg: '$ordQuant.quantity'}}}])\""
   ]
  },
  {
   "cell_type": "markdown",
   "metadata": {
    "deletable": true,
    "editable": true
   },
   "source": [
    "# AND FINALLY"
   ]
  },
  {
   "cell_type": "markdown",
   "metadata": {
    "deletable": true,
    "editable": true
   },
   "source": [
    "#### SORT!(numerical and alphabetical)"
   ]
  },
  {
   "cell_type": "code",
   "execution_count": null,
   "metadata": {
    "collapsed": false,
    "deletable": true,
    "editable": true
   },
   "outputs": [],
   "source": [
    "mongo \"db.cmb.aggregate([{$unwind: '$ordQuant'}, {$group: {_id: '$ordQuant.order', average_quantity: {$avg: '$ordQuant.quantity'}}}, {$sort: {average_quantity: -1, _id: 1}  }])\""
   ]
  },
  {
   "cell_type": "markdown",
   "metadata": {
    "collapsed": true,
    "deletable": true,
    "editable": true
   },
   "source": [
    "*Mongoose*\n",
    "```javascript\n",
    "app.get('/group1', function(req, res){\n",
    "\tmongoose.connection.db.collection('cmb', function(err, collection){\n",
    "\t\tcollection.aggregate([\n",
    "\t\t\t\t{$unwind: '$ordQuant'},\n",
    "\t\t\t\t{$group: {\n",
    "\t\t\t\t\t_id: '$ordQuant.order',\n",
    "\t\t\t\t\taverage_quantity: {$avg: '$ordQuant.quantity'}\n",
    "\t\t\t\t}},\n",
    "\t\t\t\t{$sort: {average_quantity: -1, _id: 1}}\n",
    "\t\t\t]).toArray(function(err, orders){\n",
    "\t\t\tif(err){\n",
    "\t\t\t\tconsole.log(err);\n",
    "\t\t\t} else {\n",
    "\t\t\t\tconsole.log(orders);\n",
    "\t\t\t\treturn res.json(orders);\n",
    "\t\t\t}\n",
    "\t\t});\n",
    "\t});\t\n",
    "});\n",
    "```"
   ]
  },
  {
   "cell_type": "code",
   "execution_count": null,
   "metadata": {
    "collapsed": false,
    "deletable": true,
    "editable": true
   },
   "outputs": [],
   "source": [
    "mongo \"db.cmb.drop(); db.customers.drop(); db.orders.drop()\""
   ]
  },
  {
   "cell_type": "code",
   "execution_count": null,
   "metadata": {
    "collapsed": false,
    "deletable": true,
    "editable": true
   },
   "outputs": [],
   "source": [
    "mongo \"db.getCollectionNames()\""
   ]
  }
 ],
 "metadata": {
  "celltoolbar": "Raw Cell Format",
  "kernelspec": {
   "display_name": "Python 3",
   "language": "python",
   "name": "python3"
  },
  "language_info": {
   "codemirror_mode": {
    "name": "ipython",
    "version": 3
   },
   "file_extension": ".py",
   "mimetype": "text/x-python",
   "name": "python",
   "nbconvert_exporter": "python",
   "pygments_lexer": "ipython3",
   "version": "3.5.3"
  }
 },
 "nbformat": 4,
 "nbformat_minor": 2
}
